{
 "cells": [
  {
   "cell_type": "markdown",
   "metadata": {},
   "source": [
    ">QUESTÃO 1"
   ]
  },
  {
   "cell_type": "code",
   "execution_count": 1,
   "metadata": {
    "collapsed": true
   },
   "outputs": [],
   "source": [
    "import pandas as pd"
   ]
  },
  {
   "cell_type": "code",
   "execution_count": 2,
   "metadata": {
    "collapsed": true
   },
   "outputs": [],
   "source": [
    "df = pd.read_json('Funcionarios-1M.json', typ='series')"
   ]
  },
  {
   "cell_type": "code",
   "execution_count": 3,
   "metadata": {
    "collapsed": true
   },
   "outputs": [],
   "source": [
    "salario_global = []\n",
    "for i in range(len(df[1])):\n",
    "    salario_global.append(df[1][i]['salario'])"
   ]
  },
  {
   "cell_type": "code",
   "execution_count": 4,
   "metadata": {},
   "outputs": [
    {
     "data": {
      "text/plain": [
       "{'area': 'A1',\n",
       " 'id': 933244,\n",
       " 'nome': 'Adalai',\n",
       " 'salario': 1.03,\n",
       " 'sobrenome': 'Possebon'}"
      ]
     },
     "execution_count": 4,
     "metadata": {},
     "output_type": "execute_result"
    }
   ],
   "source": [
    "df[1][salario_global.index(min(salario_global))]"
   ]
  },
  {
   "cell_type": "code",
   "execution_count": 5,
   "metadata": {},
   "outputs": [
    {
     "data": {
      "text/plain": [
       "{'area': 'A1',\n",
       " 'id': 832056,\n",
       " 'nome': 'Achillea',\n",
       " 'salario': 99999.86,\n",
       " 'sobrenome': 'Bria'}"
      ]
     },
     "execution_count": 5,
     "metadata": {},
     "output_type": "execute_result"
    }
   ],
   "source": [
    "df[1][salario_global.index(max(salario_global))]"
   ]
  },
  {
   "cell_type": "code",
   "execution_count": 6,
   "metadata": {},
   "outputs": [
    {
     "name": "stdout",
     "output_type": "stream",
     "text": [
      "global_max|Achillea Bria|99999.86\n"
     ]
    }
   ],
   "source": [
    "salario_max_global = df[1][salario_global.index(max(salario_global))]['salario']\n",
    "nome_max_global = df[1][salario_global.index(max(salario_global))]['nome']\n",
    "sobrenome_max_global = df[1][salario_global.index(max(salario_global))]['sobrenome']\n",
    "print(\"global_max|{} {}|{}\".format(nome_max_global,sobrenome_max_global,salario_max_global))"
   ]
  },
  {
   "cell_type": "code",
   "execution_count": 7,
   "metadata": {},
   "outputs": [
    {
     "name": "stdout",
     "output_type": "stream",
     "text": [
      "global_min|Adalai Possebon|1.03\n"
     ]
    }
   ],
   "source": [
    "salario_min_global = df[1][salario_global.index(min(salario_global))]['salario']\n",
    "nome_min_global = df[1][salario_global.index(min(salario_global))]['nome']\n",
    "sobrenome_min_global = df[1][salario_global.index(min(salario_global))]['sobrenome']\n",
    "print(\"global_min|{} {}|{}\".format(nome_min_global,sobrenome_min_global,salario_min_global))"
   ]
  },
  {
   "cell_type": "code",
   "execution_count": 46,
   "metadata": {},
   "outputs": [
    {
     "name": "stdout",
     "output_type": "stream",
     "text": [
      "global_avg|49967.27\n"
     ]
    }
   ],
   "source": [
    "media_global = round(sum(salario_global) / len(salario_global),2)\n",
    "print(\"global_avg|{}\".format(media_global))"
   ]
  },
  {
   "cell_type": "markdown",
   "metadata": {},
   "source": [
    ">QUESTÃO 2"
   ]
  },
  {
   "cell_type": "code",
   "execution_count": 9,
   "metadata": {
    "collapsed": true
   },
   "outputs": [],
   "source": [
    "area_global = []\n",
    "for i in range(len(df[1])):\n",
    "    area_global.append(df[1][i]['area'])"
   ]
  },
  {
   "cell_type": "code",
   "execution_count": 10,
   "metadata": {
    "collapsed": true
   },
   "outputs": [],
   "source": [
    "codigo_area, nome_area = [],[]\n",
    "for i in range(len(df[0])):\n",
    "    if df[0][i]['codigo'] in area_global:\n",
    "        codigo_area.append(df[0][i]['codigo'])\n",
    "        nome_area.append(df[0][i]['nome'])"
   ]
  },
  {
   "cell_type": "code",
   "execution_count": 11,
   "metadata": {
    "collapsed": true
   },
   "outputs": [],
   "source": [
    "salario_area, salario_parcial = [],[]\n",
    "for i in range(len(codigo_area)):\n",
    "    for j in range(len(df[1])):\n",
    "        if df[1][j]['area'] == codigo_area[i]:\n",
    "            salario_parcial.append(df[1][j]['salario'])\n",
    "    salario_area.append(salario_parcial)\n",
    "    salario_parcial = []"
   ]
  },
  {
   "cell_type": "code",
   "execution_count": 12,
   "metadata": {},
   "outputs": [
    {
     "data": {
      "text/plain": [
       "{'area': 'A1',\n",
       " 'id': 933244,\n",
       " 'nome': 'Adalai',\n",
       " 'salario': 1.03,\n",
       " 'sobrenome': 'Possebon'}"
      ]
     },
     "execution_count": 12,
     "metadata": {},
     "output_type": "execute_result"
    }
   ],
   "source": [
    "df[1][salario_global.index(min(salario_area[0]))]"
   ]
  },
  {
   "cell_type": "code",
   "execution_count": 13,
   "metadata": {},
   "outputs": [
    {
     "data": {
      "text/plain": [
       "{'area': 'A2',\n",
       " 'id': 586613,\n",
       " 'nome': 'Abraheem',\n",
       " 'salario': 1.88,\n",
       " 'sobrenome': 'Caridi'}"
      ]
     },
     "execution_count": 13,
     "metadata": {},
     "output_type": "execute_result"
    }
   ],
   "source": [
    "df[1][salario_global.index(min(salario_area[1]))]"
   ]
  },
  {
   "cell_type": "code",
   "execution_count": 14,
   "metadata": {},
   "outputs": [
    {
     "data": {
      "text/plain": [
       "{'area': 'A1',\n",
       " 'id': 832056,\n",
       " 'nome': 'Achillea',\n",
       " 'salario': 99999.86,\n",
       " 'sobrenome': 'Bria'}"
      ]
     },
     "execution_count": 14,
     "metadata": {},
     "output_type": "execute_result"
    }
   ],
   "source": [
    "df[1][salario_global.index(max(salario_area[0]))]"
   ]
  },
  {
   "cell_type": "code",
   "execution_count": 15,
   "metadata": {},
   "outputs": [
    {
     "data": {
      "text/plain": [
       "{'area': 'A2',\n",
       " 'id': 785825,\n",
       " 'nome': 'Ace',\n",
       " 'salario': 99999.01,\n",
       " 'sobrenome': 'Reinehr'}"
      ]
     },
     "execution_count": 15,
     "metadata": {},
     "output_type": "execute_result"
    }
   ],
   "source": [
    "df[1][salario_global.index(max(salario_area[1]))]"
   ]
  },
  {
   "cell_type": "code",
   "execution_count": 16,
   "metadata": {},
   "outputs": [
    {
     "name": "stdout",
     "output_type": "stream",
     "text": [
      "area_max|Ã�rea 1|Achillea Bria|99999.86\n",
      "area_max|Ã�rea 2|Ace Reinehr|99999.01\n"
     ]
    }
   ],
   "source": [
    "for i in range(len(codigo_area)):\n",
    "    salario_max_area = df[1][salario_global.index(max(salario_area[i]))]['salario']\n",
    "    nome_max_area = df[1][salario_global.index(max(salario_area[i]))]['nome']\n",
    "    sobrenome_max_area = df[1][salario_global.index(max(salario_area[i]))]['sobrenome']\n",
    "    print(\"area_max|{}|{} {}|{}\".format(nome_area[i],nome_max_area,sobrenome_max_area,salario_max_area))"
   ]
  },
  {
   "cell_type": "code",
   "execution_count": 17,
   "metadata": {},
   "outputs": [
    {
     "name": "stdout",
     "output_type": "stream",
     "text": [
      "area_min|Ã�rea 1|Adalai Possebon|1.03\n",
      "area_min|Ã�rea 2|Abraheem Caridi|1.88\n"
     ]
    }
   ],
   "source": [
    "for i in range(len(codigo_area)):\n",
    "    salario_min_area = df[1][salario_global.index(min(salario_area[i]))]['salario']\n",
    "    nome_min_area = df[1][salario_global.index(min(salario_area[i]))]['nome']\n",
    "    sobrenome_min_area = df[1][salario_global.index(min(salario_area[i]))]['sobrenome']\n",
    "    print(\"area_min|{}|{} {}|{}\".format(nome_area[i],nome_min_area,sobrenome_min_area,salario_min_area))"
   ]
  },
  {
   "cell_type": "code",
   "execution_count": 47,
   "metadata": {},
   "outputs": [
    {
     "name": "stdout",
     "output_type": "stream",
     "text": [
      "area_avg|Ã�rea 1|49961.41\n",
      "area_avg|Ã�rea 2|50037.65\n"
     ]
    }
   ],
   "source": [
    "for i in range(len(codigo_area)):\n",
    "    media_area = round(sum(salario_area[i]) / len(salario_area[i]),2)\n",
    "    print(\"area_avg|{}|{}\".format(nome_area[i],media_area))"
   ]
  },
  {
   "cell_type": "markdown",
   "metadata": {},
   "source": [
    ">QUESTÃO 3"
   ]
  },
  {
   "cell_type": "code",
   "execution_count": 19,
   "metadata": {
    "collapsed": true
   },
   "outputs": [],
   "source": [
    "codigo_quantidade = []\n",
    "for i in range(len(df[0])):\n",
    "    codigo_quantidade.append(area_global.count(df[0][i]['codigo']))"
   ]
  },
  {
   "cell_type": "code",
   "execution_count": 20,
   "metadata": {},
   "outputs": [
    {
     "name": "stdout",
     "output_type": "stream",
     "text": [
      "most_employees|Ã�rea 1|923076\n"
     ]
    }
   ],
   "source": [
    "nome_max_quantidade = df[0][codigo_quantidade.index(max(codigo_quantidade))]['nome']\n",
    "quantidade_max = max(codigo_quantidade)\n",
    "print(\"most_employees|{}|{}\".format(nome_max_quantidade,quantidade_max))"
   ]
  },
  {
   "cell_type": "code",
   "execution_count": 21,
   "metadata": {},
   "outputs": [
    {
     "name": "stdout",
     "output_type": "stream",
     "text": [
      "least_employees|Ã�rea 3|0\n",
      "least_employees|Controladoria Central|0\n",
      "least_employees|Departamento 1|0\n",
      "least_employees|Departamento 2|0\n",
      "least_employees|Departamento 3|0\n",
      "least_employees|Departamento Comercial|0\n",
      "least_employees|Departamento JurÃ­dico|0\n",
      "least_employees|Engenharia Social|0\n",
      "least_employees|GestÃ£o de Ativos|0\n",
      "least_employees|GovernanÃ§a de TI|0\n",
      "least_employees|ManutenÃ§Ã£o ElÃ©trica|0\n",
      "least_employees|ManutenÃ§Ã£o HidrÃ¡ulica|0\n",
      "least_employees|ManutenÃ§Ã£o MecÃ¢nica|0\n",
      "least_employees|ManutenÃ§Ã£o Predial|0\n",
      "least_employees|Pagadoria Externa|0\n",
      "least_employees|Pagadoria Interna|0\n",
      "least_employees|ProduÃ§Ã£o MultimÃ­dia|0\n",
      "least_employees|ProduÃ§Ã£o de Panfletos|0\n",
      "least_employees|ProgramaÃ§Ã£o Visual|0\n",
      "least_employees|Recursos Humanos|0\n",
      "least_employees|Desenvolvimento de Software|0\n",
      "least_employees|Gerenciamento de Software|0\n",
      "least_employees|Designer de UI/UX|0\n"
     ]
    }
   ],
   "source": [
    "for i in range(len(codigo_quantidade)):\n",
    "    if i >= codigo_quantidade.index(min(codigo_quantidade)):\n",
    "        nome_min_quantidade = df[0][codigo_quantidade.index(min(codigo_quantidade),i)]['nome']\n",
    "        quantidade_min = min(codigo_quantidade)\n",
    "        print(\"least_employees|{}|{}\".format(nome_min_quantidade,quantidade_min))"
   ]
  },
  {
   "cell_type": "markdown",
   "metadata": {
    "collapsed": true
   },
   "source": [
    ">QUESTÃO 4        "
   ]
  },
  {
   "cell_type": "code",
   "execution_count": 48,
   "metadata": {
    "collapsed": true
   },
   "outputs": [],
   "source": [
    "sobrenome_geral = []\n",
    "for i in range(len(df[1])):\n",
    "    sobrenome_geral.append(df[1][i]['sobrenome'])"
   ]
  },
  {
   "cell_type": "code",
   "execution_count": 49,
   "metadata": {
    "collapsed": true
   },
   "outputs": [],
   "source": [
    "sobrenome_especifico = []\n",
    "for i in range(len(df[1])):\n",
    "    if sobrenome_geral[i] not in sobrenome_especifico:\n",
    "        sobrenome_especifico.append(sobrenome_geral[i])        "
   ]
  },
  {
   "cell_type": "code",
   "execution_count": 50,
   "metadata": {
    "collapsed": true
   },
   "outputs": [],
   "source": [
    "sobrenome_quantidade = []\n",
    "for i in range(len(sobrenome_especifico)):\n",
    "    sobrenome_quantidade.append(sobrenome_geral.count(sobrenome_especifico[i]))"
   ]
  },
  {
   "cell_type": "code",
   "execution_count": 51,
   "metadata": {},
   "outputs": [
    {
     "name": "stdout",
     "output_type": "stream",
     "text": [
      "last_name_max|Bria|Achillea Bria|99999.86\n"
     ]
    }
   ],
   "source": [
    "if min(sobrenome_quantidade) > 1:\n",
    "    salario_max_sobrenome = df[1][salario_global.index(max(salario_global))]['salario']\n",
    "    nome_max_sobrenome = df[1][salario_global.index(max(salario_global))]['nome']\n",
    "    sobrenome_max_sobrenome = df[1][salario_global.index(max(salario_global))]['sobrenome']\n",
    "    print(\"last_name_max|{}|{} {}|{}\".format(sobrenome_max_sobrenome,nome_max_sobrenome,sobrenome_max_sobrenome,salario_max_sobrenome))"
   ]
  }
 ],
 "metadata": {
  "kernelspec": {
   "display_name": "Python 3",
   "language": "python",
   "name": "python3"
  },
  "language_info": {
   "codemirror_mode": {
    "name": "ipython",
    "version": 3
   },
   "file_extension": ".py",
   "mimetype": "text/x-python",
   "name": "python",
   "nbconvert_exporter": "python",
   "pygments_lexer": "ipython3",
   "version": "3.6.3"
  }
 },
 "nbformat": 4,
 "nbformat_minor": 2
}
